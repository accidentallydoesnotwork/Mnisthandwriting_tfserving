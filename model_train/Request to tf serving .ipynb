{
 "cells": [
  {
   "cell_type": "markdown",
   "metadata": {},
   "source": [
    "## Add custom preprocess layer to TF model"
   ]
  },
  {
   "cell_type": "code",
   "execution_count": 1,
   "metadata": {},
   "outputs": [],
   "source": [
    "import json \n",
    "import tensorflow as tf"
   ]
  },
  {
   "cell_type": "code",
   "execution_count": 2,
   "metadata": {},
   "outputs": [],
   "source": [
    "import numpy as np"
   ]
  },
  {
   "cell_type": "code",
   "execution_count": 5,
   "metadata": {
    "scrolled": true
   },
   "outputs": [],
   "source": [
    "path = \"./output.jpg\""
   ]
  },
  {
   "cell_type": "code",
   "execution_count": 4,
   "metadata": {},
   "outputs": [],
   "source": [
    "# this makes the cat_bytes to an array instead of a byte string \n",
    "cat_bytes = tf.expand_dims(tf.io.read_file(path), axis=0)"
   ]
  },
  {
   "cell_type": "code",
   "execution_count": 5,
   "metadata": {},
   "outputs": [],
   "source": [
    "num_bytes = tf.io.read_file(path)"
   ]
  },
  {
   "cell_type": "code",
   "execution_count": 6,
   "metadata": {},
   "outputs": [
    {
     "ename": "NameError",
     "evalue": "name 'preprocess_single_image' is not defined",
     "output_type": "error",
     "traceback": [
      "\u001b[0;31m---------------------------------------------------------------------------\u001b[0m",
      "\u001b[0;31mNameError\u001b[0m                                 Traceback (most recent call last)",
      "\u001b[0;32m<ipython-input-6-48f068eb0845>\u001b[0m in \u001b[0;36m<module>\u001b[0;34m\u001b[0m\n\u001b[0;32m----> 1\u001b[0;31m \u001b[0mpreprocess_single_image\u001b[0m\u001b[0;34m(\u001b[0m\u001b[0mnum_bytes\u001b[0m\u001b[0;34m)\u001b[0m\u001b[0;34m\u001b[0m\u001b[0;34m\u001b[0m\u001b[0m\n\u001b[0m",
      "\u001b[0;31mNameError\u001b[0m: name 'preprocess_single_image' is not defined"
     ]
    }
   ],
   "source": [
    "preprocess_single_image(num_bytes)"
   ]
  },
  {
   "cell_type": "code",
   "execution_count": 49,
   "metadata": {},
   "outputs": [],
   "source": [
    "def preprocess_single_image_tutorial(image_bytes, h=28, w=28):\n",
    "    image = tf.image.decode_jpeg(image_bytes[0], channels=1)\n",
    "    image = tf.image.resize(image, size=[h, w])\n",
    "    image = (image - 127.5) / 127.5\n",
    "    image = tf.expand_dims(image, axis=0)\n",
    "    return image"
   ]
  },
  {
   "cell_type": "code",
   "execution_count": 51,
   "metadata": {},
   "outputs": [
    {
     "name": "stdout",
     "output_type": "stream",
     "text": [
      "WARNING:tensorflow:From /home/coderschool/miniconda3/envs/cs_ftmle/lib/python3.7/site-packages/tensorflow_core/python/ops/resource_variable_ops.py:1781: calling BaseResourceVariable.__init__ (from tensorflow.python.ops.resource_variable_ops) with constraint is deprecated and will be removed in a future version.\n",
      "Instructions for updating:\n",
      "If using Keras pass *_constraint arguments to layers.\n",
      "INFO:tensorflow:Assets written to: export/1/assets\n",
      "Model Input Shape: (1,)\n"
     ]
    }
   ],
   "source": [
    "image_bytes = tf.keras.Input(shape=[], batch_size=1, name='image_bytes', dtype=tf.string)\n",
    "preprocessed_image = preprocess_single_image_tutorial(image_bytes)\n",
    "# load model\n",
    "model = tf.keras.models.load_model('./saved_model/my_model')\n",
    "predictions = model(preprocessed_image)\n",
    "new_model = tf.keras.Model(image_bytes, predictions)\n",
    "\n",
    "# save model\n",
    "new_model.save('export/1', save_format='tf')\n",
    "print('Model Input Shape:', new_model.input_shape)\n",
    "\n",
    "### !wget -q -O \"cat.jpg\" \"https://images.pexels.com/photos/617278/pexels-photo-617278.jpeg?cs=srgb&dl=adorable-animal-blur-cat-617278.jpg&fm=jpg\"\n",
    "\n",
    "# print(tf.keras.applications.xception.decode_predictions(pred"
   ]
  },
  {
   "cell_type": "code",
   "execution_count": 62,
   "metadata": {},
   "outputs": [],
   "source": [
    "loaded_model = tf.saved_model.load('export/1')\n",
    "num_bytes = tf.expand_dims(tf.io.read_file(path), axis=0)\n",
    "preds = loaded_model(num_bytes).numpy()"
   ]
  },
  {
   "cell_type": "code",
   "execution_count": 76,
   "metadata": {},
   "outputs": [
    {
     "data": {
      "text/plain": [
       "array([[6.0136663e-14, 4.4565773e-13, 1.5706302e-01, 4.8600603e-02,\n",
       "        1.5561676e-10, 2.6940592e-09, 1.1919244e-14, 2.4404729e-04,\n",
       "        7.9409236e-01, 5.0815005e-13]], dtype=float32)"
      ]
     },
     "execution_count": 76,
     "metadata": {},
     "output_type": "execute_result"
    }
   ],
   "source": [
    "preds"
   ]
  },
  {
   "cell_type": "code",
   "execution_count": 69,
   "metadata": {},
   "outputs": [
    {
     "data": {
      "text/plain": [
       "array([8])"
      ]
     },
     "execution_count": 69,
     "metadata": {},
     "output_type": "execute_result"
    }
   ],
   "source": [
    "np.argmax(preds, axis=1)"
   ]
  },
  {
   "cell_type": "markdown",
   "metadata": {},
   "source": [
    "## My model"
   ]
  },
  {
   "cell_type": "code",
   "execution_count": 3,
   "metadata": {},
   "outputs": [],
   "source": [
    "def preprocess_single_image(image_bytes):\n",
    "    image = tf.image.decode_jpeg(image_bytes, channels=1)\n",
    "    image = tf.image.resize(image, [28, 28])\n",
    "    image = (255 - image) / 255.0  # normalize to [0,1] range\n",
    "    image = tf.reshape(image, (1, 28, 28, 1))\n",
    "    return image"
   ]
  },
  {
   "cell_type": "code",
   "execution_count": 6,
   "metadata": {},
   "outputs": [],
   "source": [
    "num_bytes = tf.io.read_file(path)"
   ]
  },
  {
   "cell_type": "code",
   "execution_count": 7,
   "metadata": {},
   "outputs": [],
   "source": [
    "image = preprocess_single_image(num_bytes)"
   ]
  },
  {
   "cell_type": "code",
   "execution_count": 8,
   "metadata": {},
   "outputs": [],
   "source": [
    "image_np = image.numpy()"
   ]
  },
  {
   "cell_type": "code",
   "execution_count": 21,
   "metadata": {},
   "outputs": [],
   "source": [
    "model = tf.keras.models.load_model('./saved_model/my_model')\n"
   ]
  },
  {
   "cell_type": "code",
   "execution_count": 13,
   "metadata": {},
   "outputs": [],
   "source": [
    "probabilites = model.predict(image)\n",
    "prediction = np.argmax(probabilites, axis=1)"
   ]
  },
  {
   "cell_type": "code",
   "execution_count": 14,
   "metadata": {
    "scrolled": true
   },
   "outputs": [
    {
     "data": {
      "text/plain": [
       "array([2])"
      ]
     },
     "execution_count": 14,
     "metadata": {},
     "output_type": "execute_result"
    }
   ],
   "source": [
    "prediction"
   ]
  },
  {
   "cell_type": "code",
   "execution_count": 22,
   "metadata": {},
   "outputs": [
    {
     "name": "stdout",
     "output_type": "stream",
     "text": [
      "Model: \"sequential_6\"\n",
      "_________________________________________________________________\n",
      "Layer (type)                 Output Shape              Param #   \n",
      "=================================================================\n",
      "conv2d_15 (Conv2D)           (None, 28, 28, 12)        108       \n",
      "_________________________________________________________________\n",
      "batch_normalization_20 (Batc (None, 28, 28, 12)        36        \n",
      "_________________________________________________________________\n",
      "activation_20 (Activation)   (None, 28, 28, 12)        0         \n",
      "_________________________________________________________________\n",
      "conv2d_16 (Conv2D)           (None, 14, 14, 24)        10368     \n",
      "_________________________________________________________________\n",
      "batch_normalization_21 (Batc (None, 14, 14, 24)        72        \n",
      "_________________________________________________________________\n",
      "activation_21 (Activation)   (None, 14, 14, 24)        0         \n",
      "_________________________________________________________________\n",
      "conv2d_17 (Conv2D)           (None, 7, 7, 32)          27648     \n",
      "_________________________________________________________________\n",
      "batch_normalization_22 (Batc (None, 7, 7, 32)          96        \n",
      "_________________________________________________________________\n",
      "activation_22 (Activation)   (None, 7, 7, 32)          0         \n",
      "_________________________________________________________________\n",
      "flatten_6 (Flatten)          (None, 1568)              0         \n",
      "_________________________________________________________________\n",
      "dense_12 (Dense)             (None, 200)               313600    \n",
      "_________________________________________________________________\n",
      "batch_normalization_23 (Batc (None, 200)               600       \n",
      "_________________________________________________________________\n",
      "activation_23 (Activation)   (None, 200)               0         \n",
      "_________________________________________________________________\n",
      "dropout_6 (Dropout)          (None, 200)               0         \n",
      "_________________________________________________________________\n",
      "dense_13 (Dense)             (None, 10)                2010      \n",
      "=================================================================\n",
      "Total params: 354,538\n",
      "Trainable params: 354,002\n",
      "Non-trainable params: 536\n",
      "_________________________________________________________________\n"
     ]
    }
   ],
   "source": [
    "model.summary()"
   ]
  },
  {
   "cell_type": "markdown",
   "metadata": {},
   "source": [
    "## Request to AI platform"
   ]
  },
  {
   "cell_type": "code",
   "execution_count": 9,
   "metadata": {},
   "outputs": [],
   "source": [
    "import googleapiclient.discovery\n",
    "\n",
    "\n",
    "project_id = \"tensorflowdeployment\" # change this to your project ID\n",
    "model_id = \"my_mnist_model\"\n",
    "model_path = \"projects/{}/models/{}\".format(project_id, model_id)\n",
    "ml_resource = googleapiclient.discovery.build(\"ml\", \"v1\").projects()"
   ]
  },
  {
   "cell_type": "code",
   "execution_count": 16,
   "metadata": {},
   "outputs": [],
   "source": [
    "# change into numpy() array \n",
    "\n",
    "#     input_data_json = json.dumps({\n",
    "#     \"signature_name\": \"serving_default\",\n",
    "#     \"instances\": image_np.tolist(),\n",
    "# })\n",
    "# request to tf serving\n",
    "# SERVER_URL = 'http://localhost:8501/v1/models/my_mnist_model:predict'\n",
    "# response = requests.post(SERVER_URL, data=input_data_json)\n",
    "# response.raise_for_status() # raise an exception in case of error\n",
    "# response = response.json()\n",
    "# y_proba = np.array(response[\"predictions\"])\n",
    "# get the prediction array \n",
    "\n",
    "\n",
    "\n",
    "input_data_json = {\"signature_name\": \"serving_default\",\n",
    "                   \"instances\": image_np.tolist()}\n",
    "request_ml = ml_resource.predict(name=model_path, body=input_data_json)\n",
    "response = request_ml.execute()\n",
    "if \"error\" in response:\n",
    "    raise RuntimeError(response[\"error\"])\n",
    "y_proba = np.array([pred for pred in response[\"predictions\"]])\n"
   ]
  },
  {
   "cell_type": "code",
   "execution_count": 23,
   "metadata": {
    "scrolled": true
   },
   "outputs": [],
   "source": [
    "y_proba = np.array([pred['dense_13'] for pred in response[\"predictions\"]])\n"
   ]
  },
  {
   "cell_type": "code",
   "execution_count": 24,
   "metadata": {},
   "outputs": [],
   "source": [
    "prediction = np.argmax(y_proba, axis=1)\n"
   ]
  },
  {
   "cell_type": "code",
   "execution_count": 25,
   "metadata": {},
   "outputs": [
    {
     "data": {
      "text/plain": [
       "array([2])"
      ]
     },
     "execution_count": 25,
     "metadata": {},
     "output_type": "execute_result"
    }
   ],
   "source": [
    "prediction"
   ]
  },
  {
   "cell_type": "code",
   "execution_count": 15,
   "metadata": {},
   "outputs": [],
   "source": [
    "input_data_json = json.dumps({\n",
    "    \"signature_name\": \"serving_default\",\n",
    "    \"instances\": image_np.tolist(),\n",
    "    \n",
    "})"
   ]
  },
  {
   "cell_type": "code",
   "execution_count": 16,
   "metadata": {},
   "outputs": [],
   "source": [
    "import os"
   ]
  },
  {
   "cell_type": "code",
   "execution_count": 17,
   "metadata": {},
   "outputs": [
    {
     "name": "stdout",
     "output_type": "stream",
     "text": [
      "WARNING:tensorflow:From /home/coderschool/miniconda3/envs/cs_ftmle/lib/python3.7/site-packages/tensorflow_core/python/ops/resource_variable_ops.py:1781: calling BaseResourceVariable.__init__ (from tensorflow.python.ops.resource_variable_ops) with constraint is deprecated and will be removed in a future version.\n",
      "Instructions for updating:\n",
      "If using Keras pass *_constraint arguments to layers.\n",
      "INFO:tensorflow:Assets written to: my_mnist_model/0001/assets\n"
     ]
    }
   ],
   "source": [
    "model_version = \"0001\"\n",
    "model_name = \"my_mnist_model\"\n",
    "model_path = os.path.join(model_name, model_version)\n",
    "tf.saved_model.save(model, model_path)"
   ]
  },
  {
   "cell_type": "markdown",
   "metadata": {},
   "source": [
    "## Request to tf serving using json"
   ]
  },
  {
   "cell_type": "code",
   "execution_count": 19,
   "metadata": {
    "scrolled": true
   },
   "outputs": [],
   "source": [
    "# send request to TF serving \n",
    "import requests \n",
    "\n",
    "SERVER_URL = 'http://localhost:8501/v1/models/my_mnist_model:predict'\n",
    "response = requests.post(SERVER_URL, data=input_data_json)\n",
    "response.raise_for_status() # raise an exception in case of error\n",
    "response = response.json()"
   ]
  },
  {
   "cell_type": "code",
   "execution_count": 20,
   "metadata": {},
   "outputs": [
    {
     "data": {
      "text/plain": [
       "{'predictions': [[2.82079516e-11,\n",
       "   9.48496e-05,\n",
       "   0.995450795,\n",
       "   5.35054369e-06,\n",
       "   2.57140715e-11,\n",
       "   8.8404413e-05,\n",
       "   7.30297506e-12,\n",
       "   0.00435912888,\n",
       "   1.06089388e-07,\n",
       "   1.4274832e-06]]}"
      ]
     },
     "execution_count": 20,
     "metadata": {},
     "output_type": "execute_result"
    }
   ],
   "source": [
    "response"
   ]
  },
  {
   "cell_type": "code",
   "execution_count": 24,
   "metadata": {},
   "outputs": [],
   "source": [
    "# get prediction\n",
    "y_proba = np.array(response[\"predictions\"])\n",
    "prediction = np.argmax(probabilites, axis=1)"
   ]
  },
  {
   "cell_type": "code",
   "execution_count": 26,
   "metadata": {
    "scrolled": true
   },
   "outputs": [
    {
     "data": {
      "text/plain": [
       "array([2])"
      ]
     },
     "execution_count": 26,
     "metadata": {},
     "output_type": "execute_result"
    }
   ],
   "source": [
    "prediction"
   ]
  },
  {
   "cell_type": "markdown",
   "metadata": {},
   "source": [
    "## Request to tf serving using GRPC API and tf serving API"
   ]
  },
  {
   "cell_type": "markdown",
   "metadata": {},
   "source": [
    "gRPC (google Remote Procedure Call)"
   ]
  },
  {
   "cell_type": "code",
   "execution_count": null,
   "metadata": {},
   "outputs": [],
   "source": [
    "# pip install tensorflow-serving-api"
   ]
  },
  {
   "cell_type": "code",
   "execution_count": 32,
   "metadata": {},
   "outputs": [],
   "source": [
    "from tensorflow_serving.apis.predict_pb2 import PredictRequest\n",
    "\n",
    "request = PredictRequest()\n",
    "request.model_spec.name = model_name\n",
    "request.model_spec.signature_name = \"serving_default\"\n",
    "input_name = model.input_names[0]\n",
    "# input is a numpy array \n",
    "request.inputs[input_name].CopyFrom(tf.make_tensor_proto(image_np))"
   ]
  },
  {
   "cell_type": "code",
   "execution_count": 40,
   "metadata": {},
   "outputs": [],
   "source": [
    "import grpc\n",
    "from tensorflow_serving.apis import prediction_service_pb2_grpc\n",
    "\n",
    "channel = grpc.insecure_channel('localhost:8500')\n",
    "predict_service = prediction_service_pb2_grpc.PredictionServiceStub(channel)\n",
    "response = predict_service.Predict(request, timeout=10.0)"
   ]
  },
  {
   "cell_type": "code",
   "execution_count": 41,
   "metadata": {},
   "outputs": [
    {
     "data": {
      "text/plain": [
       "outputs {\n",
       "  key: \"dense_13\"\n",
       "  value {\n",
       "    dtype: DT_FLOAT\n",
       "    tensor_shape {\n",
       "      dim {\n",
       "        size: 1\n",
       "      }\n",
       "      dim {\n",
       "        size: 10\n",
       "      }\n",
       "    }\n",
       "    float_val: 2.8207951599523717e-11\n",
       "    float_val: 9.484960173722357e-05\n",
       "    float_val: 0.9954507946968079\n",
       "    float_val: 5.35054368810961e-06\n",
       "    float_val: 2.5714071497096036e-11\n",
       "    float_val: 8.84044129634276e-05\n",
       "    float_val: 7.302975064960027e-12\n",
       "    float_val: 0.004359128884971142\n",
       "    float_val: 1.0608938794121059e-07\n",
       "    float_val: 1.4274831983129843e-06\n",
       "  }\n",
       "}\n",
       "model_spec {\n",
       "  name: \"my_mnist_model\"\n",
       "  version {\n",
       "    value: 1\n",
       "  }\n",
       "  signature_name: \"serving_default\"\n",
       "}"
      ]
     },
     "execution_count": 41,
     "metadata": {},
     "output_type": "execute_result"
    }
   ],
   "source": [
    "response"
   ]
  },
  {
   "cell_type": "code",
   "execution_count": 35,
   "metadata": {},
   "outputs": [],
   "source": [
    "output_name = model.output_names[0]\n",
    "outputs_proto = response.outputs[output_name]\n",
    "y_proba = tf.make_ndarray(outputs_proto)"
   ]
  },
  {
   "cell_type": "code",
   "execution_count": 37,
   "metadata": {},
   "outputs": [],
   "source": [
    "prediction = np.argmax(y_proba, axis=1)"
   ]
  },
  {
   "cell_type": "code",
   "execution_count": 38,
   "metadata": {},
   "outputs": [
    {
     "data": {
      "text/plain": [
       "array([2])"
      ]
     },
     "execution_count": 38,
     "metadata": {},
     "output_type": "execute_result"
    }
   ],
   "source": [
    "prediction"
   ]
  },
  {
   "cell_type": "code",
   "execution_count": 42,
   "metadata": {},
   "outputs": [
    {
     "name": "stdout",
     "output_type": "stream",
     "text": [
      "User's Environment variable:\n",
      "{'CLICOLOR': '1',\n",
      " 'CLUTTER_IM_MODULE': 'xim',\n",
      " 'COLORTERM': 'truecolor',\n",
      " 'CONDA_DEFAULT_ENV': 'cs_ftmle',\n",
      " 'CONDA_EXE': '/home/coderschool/miniconda3/bin/conda',\n",
      " 'CONDA_PREFIX': '/home/coderschool/miniconda3/envs/cs_ftmle',\n",
      " 'CONDA_PROMPT_MODIFIER': '(cs_ftmle) ',\n",
      " 'CONDA_PYTHON_EXE': '/home/coderschool/miniconda3/bin/python',\n",
      " 'CONDA_SHLVL': '1',\n",
      " 'CPL_ZIP_ENCODING': 'UTF-8',\n",
      " 'DBUS_SESSION_BUS_ADDRESS': 'unix:path=/run/user/1001/bus',\n",
      " 'DEFAULTS_PATH': '/usr/share/gconf/ubuntu.default.path',\n",
      " 'DESKTOP_AUTOSTART_ID': '10d02171fed41d3d4d157655931562855100000026870007',\n",
      " 'DESKTOP_SESSION': 'ubuntu',\n",
      " 'DISPLAY': ':0',\n",
      " 'GDAL_DATA': '/home/coderschool/miniconda3/envs/cs_ftmle/share/gdal',\n",
      " 'GDMSESSION': 'ubuntu',\n",
      " 'GIT_PAGER': 'cat',\n",
      " 'GNOME_DESKTOP_SESSION_ID': 'this-is-deprecated',\n",
      " 'GNOME_SHELL_SESSION_MODE': 'ubuntu',\n",
      " 'GNOME_TERMINAL_SCREEN': '/org/gnome/Terminal/screen/819735a5_fe27_424e_9279_7a2ecd6e9167',\n",
      " 'GNOME_TERMINAL_SERVICE': ':1.83',\n",
      " 'GPG_AGENT_INFO': '/run/user/1001/gnupg/S.gpg-agent:0:1',\n",
      " 'GTK_IM_MODULE': 'ibus',\n",
      " 'GTK_MODULES': 'gail:atk-bridge',\n",
      " 'HOME': '/home/coderschool',\n",
      " 'IM_CONFIG_PHASE': '2',\n",
      " 'JPY_PARENT_PID': '3897',\n",
      " 'KERNEL_LAUNCH_TIMEOUT': '40',\n",
      " 'LANG': 'en_US.UTF-8',\n",
      " 'LC_ADDRESS': 'vi_VN',\n",
      " 'LC_IDENTIFICATION': 'vi_VN',\n",
      " 'LC_MEASUREMENT': 'vi_VN',\n",
      " 'LC_MONETARY': 'vi_VN',\n",
      " 'LC_NAME': 'vi_VN',\n",
      " 'LC_NUMERIC': 'vi_VN',\n",
      " 'LC_PAPER': 'vi_VN',\n",
      " 'LC_TELEPHONE': 'vi_VN',\n",
      " 'LC_TIME': 'vi_VN',\n",
      " 'LESSCLOSE': '/usr/bin/lesspipe '\n",
      "              '%s '\n",
      "              '%s',\n",
      " 'LESSOPEN': '| '\n",
      "             '/usr/bin/lesspipe '\n",
      "             '%s',\n",
      " 'LIBVIRT_DEFAULT_URI': 'qemu:///system',\n",
      " 'LOGNAME': 'coderschool',\n",
      " 'LS_COLORS': 'rs=0:di=01;34:ln=01;36:mh=00:pi=40;33:so=01;35:do=01;35:bd=40;33;01:cd=40;33;01:or=40;31;01:mi=00:su=37;41:sg=30;43:ca=30;41:tw=30;42:ow=34;42:st=37;44:ex=01;32:*.tar=01;31:*.tgz=01;31:*.arc=01;31:*.arj=01;31:*.taz=01;31:*.lha=01;31:*.lz4=01;31:*.lzh=01;31:*.lzma=01;31:*.tlz=01;31:*.txz=01;31:*.tzo=01;31:*.t7z=01;31:*.zip=01;31:*.z=01;31:*.Z=01;31:*.dz=01;31:*.gz=01;31:*.lrz=01;31:*.lz=01;31:*.lzo=01;31:*.xz=01;31:*.zst=01;31:*.tzst=01;31:*.bz2=01;31:*.bz=01;31:*.tbz=01;31:*.tbz2=01;31:*.tz=01;31:*.deb=01;31:*.rpm=01;31:*.jar=01;31:*.war=01;31:*.ear=01;31:*.sar=01;31:*.rar=01;31:*.alz=01;31:*.ace=01;31:*.zoo=01;31:*.cpio=01;31:*.7z=01;31:*.rz=01;31:*.cab=01;31:*.wim=01;31:*.swm=01;31:*.dwm=01;31:*.esd=01;31:*.jpg=01;35:*.jpeg=01;35:*.mjpg=01;35:*.mjpeg=01;35:*.gif=01;35:*.bmp=01;35:*.pbm=01;35:*.pgm=01;35:*.ppm=01;35:*.tga=01;35:*.xbm=01;35:*.xpm=01;35:*.tif=01;35:*.tiff=01;35:*.png=01;35:*.svg=01;35:*.svgz=01;35:*.mng=01;35:*.pcx=01;35:*.mov=01;35:*.mpg=01;35:*.mpeg=01;35:*.m2v=01;35:*.mkv=01;35:*.webm=01;35:*.ogm=01;35:*.mp4=01;35:*.m4v=01;35:*.mp4v=01;35:*.vob=01;35:*.qt=01;35:*.nuv=01;35:*.wmv=01;35:*.asf=01;35:*.rm=01;35:*.rmvb=01;35:*.flc=01;35:*.avi=01;35:*.fli=01;35:*.flv=01;35:*.gl=01;35:*.dl=01;35:*.xcf=01;35:*.xwd=01;35:*.yuv=01;35:*.cgm=01;35:*.emf=01;35:*.ogv=01;35:*.ogx=01;35:*.aac=00;36:*.au=00;36:*.flac=00;36:*.m4a=00;36:*.mid=00;36:*.midi=00;36:*.mka=00;36:*.mp3=00;36:*.mpc=00;36:*.ogg=00;36:*.ra=00;36:*.wav=00;36:*.oga=00;36:*.opus=00;36:*.spx=00;36:*.xspf=00;36:',\n",
      " 'MANDATORY_PATH': '/usr/share/gconf/ubuntu.mandatory.path',\n",
      " 'MPLBACKEND': 'module://ipykernel.pylab.backend_inline',\n",
      " 'OLDPWD': '/home/coderschool/deploying/mnist_fansipan/model_train',\n",
      " 'PAGER': 'cat',\n",
      " 'PATH': '/home/coderschool/miniconda3/envs/cs_ftmle/bin:/home/coderschool/miniconda3/condabin:/home/coderschool/.local/bin:/usr/local/sbin:/usr/local/bin:/usr/sbin:/usr/bin:/sbin:/bin:/usr/games:/usr/local/games:/snap/bin',\n",
      " 'PROJ_LIB': '/home/coderschool/miniconda3/envs/cs_ftmle/share/proj',\n",
      " 'PWD': '/home/coderschool/deploying/mnist_fansipan',\n",
      " 'QT4_IM_MODULE': 'xim',\n",
      " 'QT_ACCESSIBILITY': '1',\n",
      " 'QT_IM_MODULE': 'ibus',\n",
      " 'SESSION_MANAGER': 'local/dks-HP-ZBook-Studio-G4:@/tmp/.ICE-unix/2687,unix/dks-HP-ZBook-Studio-G4:/tmp/.ICE-unix/2687',\n",
      " 'SHELL': '/bin/bash',\n",
      " 'SHLVL': '1',\n",
      " 'SSH_AGENT_PID': '2790',\n",
      " 'SSH_AUTH_SOCK': '/run/user/1001/keyring/ssh',\n",
      " 'S_COLORS': 'auto',\n",
      " 'TERM': 'xterm-color',\n",
      " 'TEXTDOMAIN': 'im-config',\n",
      " 'TEXTDOMAINDIR': '/usr/share/locale/',\n",
      " 'USER': 'coderschool',\n",
      " 'USERNAME': 'coderschool',\n",
      " 'VIRTUALENVWRAPPER_HOOK_DIR': '/home/coderschool/.virtualenvs',\n",
      " 'VIRTUALENVWRAPPER_PROJECT_FILENAME': '.project',\n",
      " 'VIRTUALENVWRAPPER_PYTHON': '/usr/bin/python3',\n",
      " 'VIRTUALENVWRAPPER_SCRIPT': '/usr/local/bin/virtualenvwrapper.sh',\n",
      " 'VIRTUALENVWRAPPER_WORKON_CD': '1',\n",
      " 'VTE_VERSION': '5202',\n",
      " 'WINDOWPATH': '2',\n",
      " 'WORKON_HOME': '/home/coderschool/.virtualenvs',\n",
      " 'XAUTHORITY': '/run/user/1001/gdm/Xauthority',\n",
      " 'XDG_CONFIG_DIRS': '/etc/xdg/xdg-ubuntu:/etc/xdg',\n",
      " 'XDG_CURRENT_DESKTOP': 'ubuntu:GNOME',\n",
      " 'XDG_DATA_DIRS': '/usr/share/ubuntu:/usr/local/share/:/usr/share/:/var/lib/snapd/desktop',\n",
      " 'XDG_MENU_PREFIX': 'gnome-',\n",
      " 'XDG_RUNTIME_DIR': '/run/user/1001',\n",
      " 'XDG_SEAT': 'seat0',\n",
      " 'XDG_SESSION_DESKTOP': 'ubuntu',\n",
      " 'XDG_SESSION_ID': '2',\n",
      " 'XDG_SESSION_TYPE': 'x11',\n",
      " 'XDG_VTNR': '2',\n",
      " 'XMODIFIERS': '@im=ibus',\n",
      " '_': '/home/coderschool/miniconda3/envs/cs_ftmle/bin/jupyter',\n",
      " '_CE_CONDA': '',\n",
      " '_CE_M': ''}\n"
     ]
    }
   ],
   "source": [
    "import os \n",
    "import pprint \n",
    "  \n",
    "# Get the list of user's \n",
    "# environment variables \n",
    "env_var = os.environ \n",
    "  \n",
    "# Print the list of user's \n",
    "# environment variables \n",
    "print(\"User's Environment variable:\") \n",
    "pprint.pprint(dict(env_var), width = 1)"
   ]
  },
  {
   "cell_type": "code",
   "execution_count": 31,
   "metadata": {
    "scrolled": true
   },
   "outputs": [],
   "source": [
    "def rotate(args):\n",
    "    lst, k = args\n",
    "    k = k % len(lst)\n",
    "    reverse(lst, 0, k - 1)\n",
    "    reverse(lst, k, len(lst) - 1)\n",
    "    reverse(lst, 0, len(lst) - 1)\n",
    "    return lst\n",
    "\n",
    "def reverse(lst, i, j):\n",
    "    while i < j:\n",
    "        \n",
    "        lst[i], lst[j] = lst[j], lst[i]\n",
    "        i += 1\n",
    "        j -= 1"
   ]
  },
  {
   "cell_type": "code",
   "execution_count": 35,
   "metadata": {},
   "outputs": [],
   "source": [
    "def reverse(lst, i, j):\n",
    "    while i < j:\n",
    "        print(f\"i:{i}\",f\"j:{j}\")\n",
    "        lst[i], lst[j] = lst[j], lst[i]\n",
    "        i += 1\n",
    "        j -= 1\n",
    "    return lst "
   ]
  },
  {
   "cell_type": "code",
   "execution_count": 42,
   "metadata": {},
   "outputs": [
    {
     "data": {
      "text/plain": [
       "2"
      ]
     },
     "execution_count": 42,
     "metadata": {},
     "output_type": "execute_result"
    }
   ],
   "source": [
    "lst = [1, 2, 3, 4, 5, 6, 7]\n",
    "k = 2 % len(lst)\n",
    "k"
   ]
  },
  {
   "cell_type": "code",
   "execution_count": 43,
   "metadata": {},
   "outputs": [
    {
     "name": "stdout",
     "output_type": "stream",
     "text": [
      "i:0 j:1\n"
     ]
    },
    {
     "data": {
      "text/plain": [
       "[2, 1, 3, 4, 5, 6, 7]"
      ]
     },
     "execution_count": 43,
     "metadata": {},
     "output_type": "execute_result"
    }
   ],
   "source": [
    "reverse(lst, 0, k - 1)"
   ]
  },
  {
   "cell_type": "code",
   "execution_count": null,
   "metadata": {},
   "outputs": [],
   "source": []
  }
 ],
 "metadata": {
  "kernelspec": {
   "display_name": "Python 3",
   "language": "python",
   "name": "python3"
  },
  "language_info": {
   "codemirror_mode": {
    "name": "ipython",
    "version": 3
   },
   "file_extension": ".py",
   "mimetype": "text/x-python",
   "name": "python",
   "nbconvert_exporter": "python",
   "pygments_lexer": "ipython3",
   "version": "3.7.3"
  }
 },
 "nbformat": 4,
 "nbformat_minor": 2
}
